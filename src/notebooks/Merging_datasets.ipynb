{
 "cells": [
  {
   "cell_type": "code",
   "execution_count": 8,
   "id": "a97527de-fee9-406d-8119-925f185115ab",
   "metadata": {},
   "outputs": [],
   "source": [
    "import pandas as pd\n",
    "import numpy as np\n",
    "from scipy.spatial.distance import cdist"
   ]
  },
  {
   "cell_type": "code",
   "execution_count": 9,
   "id": "3c864f74-e5c8-45dd-b653-dfbf93f0f75e",
   "metadata": {},
   "outputs": [],
   "source": [
    "#Trying to merge the two datasets NOAA + GCBD by coordinates - does not work because we don't have the correct stations, you can see the distances are too far away, or the way of calculation is wrong??"
   ]
  },
  {
   "cell_type": "code",
   "execution_count": null,
   "id": "e8deb4ca-7be8-4f4e-b60d-cad73431b317",
   "metadata": {},
   "outputs": [],
   "source": [
    "# this is our combined NOAA for the selected stations\n",
    "noaa_data = pd.read_csv('coral_reef_data_combined.csv')\n",
    "#GCBD dataset\n",
    "gcbd_data = pd.read_csv('gcbd_cleaned.csv', low_memory=False)"
   ]
  },
  {
   "cell_type": "code",
   "execution_count": 14,
   "id": "52bc7e0a-dce2-4bcc-a9b0-8faad210716f",
   "metadata": {},
   "outputs": [
    {
     "name": "stdout",
     "output_type": "stream",
     "text": [
      "NOAA stations: 9\n",
      "                      Station              Region  Latitude  Longitude\n",
      "0            Far Northern GBR  Great Barrier Reef   -12.675    144.100\n",
      "14751           Torres Strait           Caribbean    -9.950    143.650\n",
      "29500            Northern GBR  Great Barrier Reef   -16.100    145.975\n",
      "44251                  Samoas           Polynesia   -12.825   -170.475\n",
      "59001   Northern Cook Islands           Polynesia   -10.950   -165.200\n",
      "73752   Main Hawaiian Islands           Caribbean    20.575   -157.700\n",
      "88503               Nicaragua           Caribbean    14.125    -81.750\n",
      "103254   Panama Atlantic East           Caribbean     9.200    -78.700\n",
      "118005                Jamaica           Caribbean    17.675    -77.250\n"
     ]
    }
   ],
   "source": [
    "# getting the stations from NOAA (should be 9)\n",
    "noaa_stations = noaa_data[['Station', 'Region', 'Latitude', 'Longitude']].drop_duplicates()\n",
    "print(f\"NOAA stations: {len(noaa_stations)}\")\n",
    "print(noaa_stations)\n"
   ]
  },
  {
   "cell_type": "code",
   "execution_count": 15,
   "id": "8d994d45-f294-462d-983a-1eb10d10899f",
   "metadata": {},
   "outputs": [],
   "source": [
    "# calculate distance between coordinates (Haversine formula)\n",
    "def haversine_distance(lat1, lon1, lat2, lon2):\n",
    "    # Convert decimal degrees to radians\n",
    "    lat1, lon1, lat2, lon2 = map(np.radians, [lat1, lon1, lat2, lon2])\n",
    "    \n",
    "    # Haversine formula\n",
    "    dlat = lat2 - lat1\n",
    "    dlon = lon2 - lon1\n",
    "    a = np.sin(dlat/2)**2 + np.cos(lat1) * np.cos(lat2) * np.sin(dlon/2)**2\n",
    "    c = 2 * np.arcsin(np.sqrt(a))\n",
    "    r = 6371  # Radius of earth in kilometers\n",
    "    return c * r\n"
   ]
  },
  {
   "cell_type": "code",
   "execution_count": 16,
   "id": "82189446-827a-4ef1-8544-083832b86383",
   "metadata": {},
   "outputs": [],
   "source": [
    "# For each NOAA station, find nearby GCBD sites - I set the distance to 100km for now just ot see what we have\n",
    "def find_nearby_gcbd_sites(station_lat, station_lon, gcbd_df, max_distance_km=100):\n",
    "    distances = []\n",
    "    for idx, row in gcbd_df.iterrows():\n",
    "        dist = haversine_distance(station_lat, station_lon, \n",
    "                                row['Latitude_Degrees'], row['Longitude_Degrees'])\n",
    "        if dist <= max_distance_km:\n",
    "            distances.append({\n",
    "                'GCBD_Index': idx,\n",
    "                'Distance_km': dist,\n",
    "                'GCBD_Site': row.get('Site_Name', 'Unknown'),\n",
    "                'GCBD_Country': row.get('Country_Name', 'Unknown'),\n",
    "                'GCBD_Lat': row['Latitude_Degrees'],\n",
    "                'GCBD_Lon': row['Longitude_Degrees']\n",
    "            })\n",
    "    \n",
    "    return sorted(distances, key=lambda x: x['Distance_km'])"
   ]
  },
  {
   "cell_type": "code",
   "execution_count": 18,
   "id": "acf36589-50e4-4d47-9df7-aaa471787abe",
   "metadata": {},
   "outputs": [
    {
     "name": "stdout",
     "output_type": "stream",
     "text": [
      "\n",
      " Far Northern GBR (Great Barrier Reef):\n",
      "   Coordinates: (-12.675, 144.100)\n",
      "   Nearby GCBD sites: 13\n",
      "   Closest matches:\n",
      "     • nan (Australia) - 53.8km away\n",
      "     • nan (Australia) - 58.7km away\n",
      "     • nan (Australia) - 63.5km away\n",
      "\n",
      " Torres Strait (Caribbean):\n",
      "   Coordinates: (-9.950, 143.650)\n",
      "   Nearby GCBD sites: 0\n",
      "No GCBD sites found within given radius\n",
      "\n",
      " Northern GBR (Great Barrier Reef):\n",
      "   Coordinates: (-16.100, 145.975)\n",
      "   Nearby GCBD sites: 471\n",
      "   Closest matches:\n",
      "     • nan (Australia) - 11.2km away\n",
      "     • nan (Australia) - 11.2km away\n",
      "     • nan (Australia) - 12.7km away\n",
      "\n",
      " Samoas (Polynesia):\n",
      "   Coordinates: (-12.825, -170.475)\n",
      "   Nearby GCBD sites: 0\n",
      "No GCBD sites found within given radius\n",
      "\n",
      " Northern Cook Islands (Polynesia):\n",
      "   Coordinates: (-10.950, -165.200)\n",
      "   Nearby GCBD sites: 0\n",
      "No GCBD sites found within given radius\n",
      "\n",
      " Main Hawaiian Islands (Caribbean):\n",
      "   Coordinates: (20.575, -157.700)\n",
      "   Nearby GCBD sites: 39\n",
      "   Closest matches:\n",
      "     • nan (United States) - 76.5km away\n",
      "     • nan (United States) - 76.5km away\n",
      "     • nan (United States) - 77.4km away\n",
      "\n",
      " Nicaragua (Caribbean):\n",
      "   Coordinates: (14.125, -81.750)\n",
      "   Nearby GCBD sites: 42\n",
      "   Closest matches:\n",
      "     • Bight (Colombia) - 80.3km away\n",
      "     • Rock Deep Shoald (Colombia) - 80.4km away\n",
      "     • Tapoo Point (Colombia) - 85.1km away\n",
      "\n",
      " Panama Atlantic East (Caribbean):\n",
      "   Coordinates: (9.200, -78.700)\n",
      "   Nearby GCBD sites: 217\n",
      "   Closest matches:\n",
      "     • nan (Panama) - 28.0km away\n",
      "     • Wichudub 1 (Panama) - 28.0km away\n",
      "     • Wichudub 1 (Panama) - 28.0km away\n",
      "\n",
      " Jamaica (Caribbean):\n",
      "   Coordinates: (17.675, -77.250)\n",
      "   Nearby GCBD sites: 591\n",
      "   Closest matches:\n",
      "     • nan (Jamaica) - 21.0km away\n",
      "     • nan (Jamaica) - 22.6km away\n",
      "     • nan (Jamaica) - 22.6km away\n"
     ]
    }
   ],
   "source": [
    "# trying to match the NOAA station with GCBD sites\n",
    "station_matches = {}\n",
    "\n",
    "for idx, station in noaa_stations.iterrows():\n",
    "    station_name = station['Station']\n",
    "    station_lat = station['Latitude']\n",
    "    station_lon = station['Longitude']\n",
    "    \n",
    "    nearby_sites = find_nearby_gcbd_sites(station_lat, station_lon, gcbd_clean, max_distance_km=100)\n",
    "    \n",
    "    station_matches[station_name] = {\n",
    "        'noaa_info': station,\n",
    "        'nearby_gcbd_sites': nearby_sites,\n",
    "        'match_count': len(nearby_sites)\n",
    "    }\n",
    "    \n",
    "    print(f\"\\n {station_name} ({station['Region']}):\")\n",
    "    print(f\"   Coordinates: ({station_lat:.3f}, {station_lon:.3f})\")\n",
    "    print(f\"   Nearby GCBD sites: {len(nearby_sites)}\")\n",
    "    \n",
    "    if nearby_sites:\n",
    "        print(f\"   Closest matches:\")\n",
    "        for site in nearby_sites[:3]:  # Show top 3 closest\n",
    "            print(f\"     • {site['GCBD_Site']} ({site['GCBD_Country']}) - {site['Distance_km']:.1f}km away\")\n",
    "    else:\n",
    "        print(f\"No GCBD sites found within given radius\")"
   ]
  },
  {
   "cell_type": "code",
   "execution_count": 19,
   "id": "381b1596-22b4-49e4-ad99-d1bd0d236d06",
   "metadata": {},
   "outputs": [
    {
     "name": "stdout",
     "output_type": "stream",
     "text": [
      "Total NOAA stations: 9\n",
      "Stations with nearby GCBD sites: 6\n",
      "Total GCBD sites within specified radius of stations: 1373\n"
     ]
    }
   ],
   "source": [
    "# summary \n",
    "total_matches = sum([info['match_count'] for info in station_matches.values()])\n",
    "stations_with_matches = sum([1 for info in station_matches.values() if info['match_count'] > 0])\n",
    "\n",
    "print(f\"Total NOAA stations: {len(noaa_stations)}\")\n",
    "print(f\"Stations with nearby GCBD sites: {stations_with_matches}\")\n",
    "print(f\"Total GCBD sites within specified radius of stations: {total_matches}\")"
   ]
  },
  {
   "cell_type": "code",
   "execution_count": 21,
   "id": "290bf498-e299-4286-aef3-503b9eda78f0",
   "metadata": {},
   "outputs": [
    {
     "name": "stdout",
     "output_type": "stream",
     "text": [
      "\n",
      "CREATING FILTERED GCBD DATASET...\n",
      "Filtered GCBD dataset: 1373 sites\n"
     ]
    }
   ],
   "source": [
    "# create a new dataset - filtered GCBD dataset with only sites near NOAA stations - this is just an example of how we could combine it into one once we have to correct stations and radius\n",
    "print(f\"\\nCREATING FILTERED GCBD DATASET...\")\n",
    "nearby_gcbd_indices = set()\n",
    "for station_info in station_matches.values():\n",
    "    for site in station_info['nearby_gcbd_sites']:\n",
    "        nearby_gcbd_indices.add(site['GCBD_Index'])\n",
    "\n",
    "gcbd_filtered = gcbd_clean.loc[list(nearby_gcbd_indices)].copy()\n",
    "print(f\"Filtered GCBD dataset: {len(gcbd_filtered)} sites\")"
   ]
  },
  {
   "cell_type": "code",
   "execution_count": 22,
   "id": "1820839c-727f-47df-969e-8fb06d82d6f1",
   "metadata": {},
   "outputs": [
    {
     "name": "stdout",
     "output_type": "stream",
     "text": [
      "Saved filtered GCBD data to 'gcbd_filtered_near_noaa_stations.csv'\n"
     ]
    }
   ],
   "source": [
    "# save the new dataset\n",
    "gcbd_filtered.to_csv('gcbd_filtered_near_noaa_stations.csv', index=False)\n",
    "print(f\"Saved filtered GCBD data to 'gcbd_filtered_near_noaa_stations.csv'\")"
   ]
  },
  {
   "cell_type": "code",
   "execution_count": 23,
   "id": "6e229527-3a59-49c3-8a80-a0eaf28ce49d",
   "metadata": {},
   "outputs": [
    {
     "name": "stdout",
     "output_type": "stream",
     "text": [
      "saved matching reference to 'noaa_gcbd_station_matches.csv'\n"
     ]
    }
   ],
   "source": [
    "# matching reference table\n",
    "match_records = []\n",
    "for station_name, info in station_matches.items():\n",
    "    for site in info['nearby_gcbd_sites']:\n",
    "        match_records.append({\n",
    "            'NOAA_Station': station_name,\n",
    "            'NOAA_Region': info['noaa_info']['Region'],\n",
    "            'NOAA_Lat': info['noaa_info']['Latitude'],\n",
    "            'NOAA_Lon': info['noaa_info']['Longitude'],\n",
    "            'GCBD_Index': site['GCBD_Index'],\n",
    "            'GCBD_Site': site['GCBD_Site'],\n",
    "            'GCBD_Country': site['GCBD_Country'],\n",
    "            'GCBD_Lat': site['GCBD_Lat'],\n",
    "            'GCBD_Lon': site['GCBD_Lon'],\n",
    "            'Distance_km': site['Distance_km']\n",
    "        })\n",
    "\n",
    "match_df = pd.DataFrame(match_records)\n",
    "match_df.to_csv('noaa_gcbd_station_matches.csv', index=False)\n",
    "print(f\"saved matching reference to 'noaa_gcbd_station_matches.csv'\")\n",
    "\n"
   ]
  }
 ],
 "metadata": {
  "kernelspec": {
   "display_name": "Python 3 (ipykernel)",
   "language": "python",
   "name": "python3"
  },
  "language_info": {
   "codemirror_mode": {
    "name": "ipython",
    "version": 3
   },
   "file_extension": ".py",
   "mimetype": "text/x-python",
   "name": "python",
   "nbconvert_exporter": "python",
   "pygments_lexer": "ipython3",
   "version": "3.13.2"
  }
 },
 "nbformat": 4,
 "nbformat_minor": 5
}
